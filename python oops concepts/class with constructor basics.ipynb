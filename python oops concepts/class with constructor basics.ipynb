{
 "cells": [
  {
   "cell_type": "code",
   "execution_count": 2,
   "metadata": {},
   "outputs": [
    {
     "name": "stdout",
     "output_type": "stream",
     "text": [
      "Ajith's Age is :  30\n"
     ]
    }
   ],
   "source": [
    "# Defining a class\n",
    "class Employee:\n",
    "    # The Constructor method, refer readme for self object\n",
    "    def __init__(self):\n",
    "        # Creating properties for the class.\n",
    "        self.name = None\n",
    "        self.age = None\n",
    "        self.salary = None\n",
    "\n",
    "ajith=Employee()\n",
    "ajith.age = 30\n",
    "ajith.name = \"Ajith V\"\n",
    "ajith.salary = 50000\n",
    "\n",
    "print(\"Ajith's Age is : \", ajith.age)"
   ]
  },
  {
   "cell_type": "code",
   "execution_count": 1,
   "metadata": {},
   "outputs": [
    {
     "name": "stdout",
     "output_type": "stream",
     "text": [
      "Rides cycle on a rope\n",
      "Breed of monkey who eat banana :  Baboon\n"
     ]
    }
   ],
   "source": [
    "class Monkey:\n",
    "    def __init__(self):\n",
    "        self.breed=None\n",
    "        self.color=None\n",
    "    \n",
    "    # Method declared in the class.\n",
    "    def ride_cycle(self):\n",
    "        if(self.breed==\"Chimpanzee\"):\n",
    "            print(\"Rides cycle on a rope\")\n",
    "        else:\n",
    "            print(\"Rides cycle\")\n",
    "\n",
    "    def eat_banana(self, monkey_breed):\n",
    "        self.breed = monkey_breed\n",
    "\n",
    "chimpu=Monkey()\n",
    "chimpu.breed=\"Chimpanzee\"\n",
    "chimpu.color=\"Brown\"\n",
    "# Invoking the method from the object created.\n",
    "chimpu.ride_cycle()\n",
    "\n",
    "monky = Monkey()\n",
    "# Always remember that in a method since 'self' is not a keyword, no matter what variable is used, \n",
    "# the first parameter is always considered as the implicit reference to the object used.\n",
    "monky.eat_banana(\"Baboon\")\n",
    "\n",
    "print(\"Breed of monkey who eat banana : \", monky.breed)"
   ]
  },
  {
   "cell_type": "markdown",
   "metadata": {},
   "source": [
    "# constructor with parameters"
   ]
  },
  {
   "cell_type": "code",
   "execution_count": 3,
   "metadata": {},
   "outputs": [
    {
     "name": "stdout",
     "output_type": "stream",
     "text": [
      "Employee name :  Raj  age:  28\n"
     ]
    }
   ],
   "source": [
    "class Employee:\n",
    "    def __init__(self, emp_name, emp_age):\n",
    "        self.name = emp_name\n",
    "        self.age = emp_age\n",
    "\n",
    "# We can pass parameters to the constructor and set the instance variables values.\n",
    "developer=Employee(\"Raj\", 28)\n",
    "print(\"Employee name : \", developer.name, \" age: \", developer.age)"
   ]
  },
  {
   "cell_type": "code",
   "execution_count": 4,
   "metadata": {},
   "outputs": [
    {
     "name": "stdout",
     "output_type": "stream",
     "text": [
      "Given Salary is 50is too low. Salary  range should be between 100and200\n"
     ]
    }
   ],
   "source": [
    "# To raise an exception, you can use the 'raise' keyword. \n",
    "# Note that you can only raise an object of the Exception class or its subclasses. \n",
    "# Exception is an inbuilt class in python.\n",
    "# To raise subclasses of Exception(custom Exception) we have to create our own custom Class.\n",
    "# We can also pass message along with exception so that exception handling is consistent.\n",
    "\n",
    "class Employee:\n",
    "    def __init__(self, salary):\n",
    "        self.salary_lower_limit = 100\n",
    "        self.salary_upper_limit = 200\n",
    "        self.salary = salary\n",
    "\n",
    "class HumanResource:\n",
    "    def pay_salary(self, employee):\n",
    "        if(employee.salary < employee.salary_lower_limit): raise LowSalaryException(employee) # Raising Custom Exceptions\n",
    "        elif(employee.salary > employee.salary_upper_limit): raise HighSalaryException(employee)\n",
    "        else:\n",
    "            print(\"Employee is satisfied with given salary.\")\n",
    "\n",
    "class LowSalaryException(Exception):\n",
    "    def __init__(self, employee):\n",
    "        # Building the custom message\n",
    "        message = \"Given Salary is \"+ str(employee.salary) + \"is too low. Salary  range should be between \" + str(employee.salary_lower_limit) + \"and\" + str(employee.salary_upper_limit)\n",
    "        # Passing the message to super class\n",
    "        super().__init__(message)\n",
    "        \n",
    "class HighSalaryException(Exception):\n",
    "    def __init__(self, employee):\n",
    "        message = \"Given Salary is \"+ str(employee.salary) + \"is too High. Salary  range should be between \" + str(employee.salary_lower_limit) + \"and\" + str(employee.salary_upper_limit)\n",
    "        super().__init__(message)\n",
    "\n",
    "try:\n",
    "    employee=Employee(50)\n",
    "    human_resource=HumanResource()\n",
    "    human_resource.pay_salary(employee)\n",
    "except LowSalaryException as e:\n",
    "    print(e)\n",
    "except HighSalaryException as e:\n",
    "    print(e)\n",
    "except:\n",
    "    print(\"Some other error.\")"
   ]
  },
  {
   "cell_type": "code",
   "execution_count": null,
   "metadata": {},
   "outputs": [],
   "source": []
  }
 ],
 "metadata": {
  "kernelspec": {
   "display_name": "Python 3",
   "language": "python",
   "name": "python3"
  },
  "language_info": {
   "codemirror_mode": {
    "name": "ipython",
    "version": 3
   },
   "file_extension": ".py",
   "mimetype": "text/x-python",
   "name": "python",
   "nbconvert_exporter": "python",
   "pygments_lexer": "ipython3",
   "version": "3.7.4"
  }
 },
 "nbformat": 4,
 "nbformat_minor": 2
}
