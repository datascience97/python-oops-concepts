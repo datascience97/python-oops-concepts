{
 "cells": [
  {
   "cell_type": "code",
   "execution_count": 2,
   "metadata": {},
   "outputs": [
    {
     "name": "stdout",
     "output_type": "stream",
     "text": [
      "Total employees logged in via classname :  3\n",
      "Total employees logged in reference variable :  3\n"
     ]
    }
   ],
   "source": [
    "# When we want to access a method without an object, you can use the @staticmethod\n",
    "# @staticmethod makes the method immediately below it a static method.\n",
    "# A static method does not belong to the object and hence does not have the `self` attribute.\n",
    "# In other words the first parameter is NOT considered as an implicit reference to the object\n",
    "# and hence it cannot access the self attributes of an object of its class.\n",
    "\n",
    "class Employee:\n",
    "    __no_of_employees = 0\n",
    "    def __init__(self, emp_name, emp_age):\n",
    "        self.name = emp_name\n",
    "        self.age = emp_age\n",
    "    def employee_login(self):\n",
    "        Employee.__no_of_employees += 1\n",
    "    @staticmethod\n",
    "    def get_total_employees():\n",
    "        return Employee.__no_of_employees\n",
    "# We can pass parameters to the constructor and set the instance variables values.\n",
    "raj=Employee(\"Raj\", 28)\n",
    "raj.employee_login()\n",
    "pradeep=Employee(\"Pradeep\", 27)\n",
    "pradeep.employee_login()\n",
    "kumar=Employee(\"Kumar\", 27)\n",
    "kumar.employee_login()\n",
    "print(\"Total employees logged in via classname : \", Employee.get_total_employees())\n",
    "# Static methods can be accessed/invoked using object reference\n",
    "# But its a good practice to invoke a static method using class name.\n",
    "print(\"Total employees logged in reference variable : \", kumar.get_total_employees())"
   ]
  },
  {
   "cell_type": "markdown",
   "metadata": {},
   "source": [
    "# private variables"
   ]
  },
  {
   "cell_type": "code",
   "execution_count": 5,
   "metadata": {},
   "outputs": [
    {
     "name": "stdout",
     "output_type": "stream",
     "text": [
      "Lion's trainer is Mark\n",
      "Salary of Trainer 2000\n",
      "His salary is Rs. 2000\n"
     ]
    }
   ],
   "source": [
    "#Learn more or give us feedback\n",
    "# Variables which should not be accessed outside a class are called private variables.\n",
    "# In Python you can easily create private variables by prefixing it with a double underscore ( __ )\n",
    "\n",
    "# Whenever you create a private variable, python internally changes its name as _ClassName__variableName.\n",
    "# For example, here __salary is actually internally stored as _Trainer__salary.\n",
    "\n",
    "# Methods used to set values are called as 'mutator' methods and methods used to get values are called as 'accessor' methods!\n",
    "\n",
    "class Trainer:\n",
    "    def __init__(self):\n",
    "        self.name=None\n",
    "        self.__salary=1000\n",
    "    def set_salary(self,salary):\n",
    "        self.__salary=salary\n",
    "    def get_salary(self):\n",
    "        return self.__salary\n",
    "lion_trainer=Trainer()\n",
    "lion_trainer.name=\"Mark\"\n",
    "# You can set a private variable using obj._Trainer__salary. Ex: lion_trainer._Trainer__salary = 2000\n",
    "# But this is not a right way, the correct way is to use mutator methods.\n",
    "lion_trainer.set_salary(2000)\n",
    "print(\"Lion's trainer is\", lion_trainer.name)\n",
    "# You can also access the private variable using obj._Trainer__salary.\n",
    "print(\"Salary of Trainer\" , lion_trainer._Trainer__salary)\n",
    "# But this is not a right way, the correct way is to use accessor methods.\n",
    "print(\"His salary is Rs.\", lion_trainer.get_salary())"
   ]
  },
  {
   "cell_type": "code",
   "execution_count": 8,
   "metadata": {},
   "outputs": [
    {
     "name": "stdout",
     "output_type": "stream",
     "text": [
      "Teacher Perfroms teaching tasks and earns  100\n",
      "Mentor Perfroms mentoring tasks and earns  75\n",
      "5\n",
      "10\n",
      "This is possible\n"
     ]
    }
   ],
   "source": [
    "# In OOP, we can create abstract methods. A class which has an abstract method cannot be instantiated. \n",
    "# Similarly, a sub class of an abstract class cannot be instantiated unless it overrides the abstract method.\n",
    "\n",
    "# abc - Abstract Base class\n",
    "# ABCMeta - Inbuilt special class\n",
    "# abstractmethod - Indicator to specify method is abstract.\n",
    "from abc import ABCMeta, abstractmethod\n",
    "class Employee(metaclass=ABCMeta):\n",
    "    @abstractmethod # Indicating the abstractmethod\n",
    "    def salary(self):\n",
    "        pass\n",
    "    def perforimg_task(self, task_name):\n",
    "        return \"Perfroms \" + task_name + \" tasks\"\n",
    "\n",
    "class Teacher(Employee):\n",
    "    def salary(self):\n",
    "        return 100\n",
    "\n",
    "class Mentor(Employee):\n",
    "    def salary(self):\n",
    "        return 75\n",
    "\n",
    "t1=Teacher()\n",
    "print(\"Teacher\", t1.perforimg_task(\"teaching\"), \"and earns \", t1.salary())\n",
    "m1=Mentor()\n",
    "print(\"Mentor\", m1.perforimg_task(\"mentoring\"), \"and earns \",m1.salary())\n",
    "\n",
    "# Another example of multi level inheritance implementation of abstract methods.\n",
    "class Parent(metaclass=ABCMeta):\n",
    "    def __init__(self): \n",
    "        self.num=5\n",
    "    @abstractmethod\n",
    "    def show(self):\n",
    "        pass\n",
    "    \n",
    "class Child(Parent):  # Here we have not override the show method, but the GrandChild which is sub class for Child overriden it.\n",
    "    def __init__(self):\n",
    "        super().__init__()\n",
    "        self.var=10\n",
    "        \n",
    "class GrandChild(Child):\n",
    "    def show(self): # This is where we override the show method of Parent class.\n",
    "        print(self.num)\n",
    "        print(self.var)\n",
    "        print(\"This is possible\") \n",
    "        \n",
    "obj=GrandChild()  \n",
    "obj.show()"
   ]
  },
  {
   "cell_type": "code",
   "execution_count": null,
   "metadata": {},
   "outputs": [],
   "source": []
  }
 ],
 "metadata": {
  "kernelspec": {
   "display_name": "Python 3",
   "language": "python",
   "name": "python3"
  },
  "language_info": {
   "codemirror_mode": {
    "name": "ipython",
    "version": 3
   },
   "file_extension": ".py",
   "mimetype": "text/x-python",
   "name": "python",
   "nbconvert_exporter": "python",
   "pygments_lexer": "ipython3",
   "version": "3.7.4"
  }
 },
 "nbformat": 4,
 "nbformat_minor": 2
}
