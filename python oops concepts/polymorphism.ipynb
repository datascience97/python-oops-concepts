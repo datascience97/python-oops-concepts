{
 "cells": [
  {
   "cell_type": "code",
   "execution_count": 1,
   "metadata": {},
   "outputs": [
    {
     "name": "stdout",
     "output_type": "stream",
     "text": [
      "Dog eats food  Chicken\n",
      "Animal sleep for  4  hours\n",
      "Dog is barking  Mediumly\n",
      "Animal eats food  Goat\n",
      "Animal sleep for  9  hours\n",
      "Lion roars  Loudly\n"
     ]
    }
   ],
   "source": [
    "# Polymorphism - One method can have different versions.\n",
    "# We can override the methods of parent class in the child class.\n",
    "# The method to be called is decided automatically depending on the object on which the method is invoked.\n",
    "class Animal:\n",
    "    def eat(self, food):\n",
    "        print(\"Animal eats food \", food)\n",
    "    def sleep(self, hours):\n",
    "        print(\"Animal sleep for \", hours, \" hours\")\n",
    "\n",
    "class Dog(Animal):\n",
    "    def eat(self, food): # This method is overriden\n",
    "        print(\"Dog eats food \", food)\n",
    "        # we can also call the parent class method here using super()\n",
    "        # super().eat(food)\n",
    "    def barks(self, sound):\n",
    "        print(\"Dog is barking \", sound)\n",
    "\n",
    "class Lion(Animal):\n",
    "    def roars(self, sound):\n",
    "        print(\"Lion roars \", sound)\n",
    "\n",
    "dog = Dog()\n",
    "dog.eat(\"Chicken\") # this invokes the overridden method rather than the parent class method.\n",
    "dog.sleep(4)\n",
    "dog.barks(\"Mediumly\")\n",
    "lion=Lion()\n",
    "lion.eat(\"Goat\") # this will call the parent class method.\n",
    "lion.sleep(9)\n",
    "lion.roars(\"Loudly\")"
   ]
  },
  {
   "cell_type": "markdown",
   "metadata": {},
   "source": [
    "# printing an object"
   ]
  },
  {
   "cell_type": "code",
   "execution_count": 2,
   "metadata": {},
   "outputs": [
    {
     "name": "stdout",
     "output_type": "stream",
     "text": [
      "Raj 28\n"
     ]
    }
   ],
   "source": [
    "# Python has a built method called __str__(self), which will called automatically when we print an object.\n",
    "# __str__(self) must return a String, so for other datatypes we need to do type casting\n",
    "class Employee:\n",
    "    def __init__(self):\n",
    "        self.__name = None\n",
    "        self.__age = None\n",
    "    \n",
    "    def set_age(self, emp_age):\n",
    "        self.__age = emp_age\n",
    "    \n",
    "    def get_age(self):\n",
    "        return self.__age\n",
    "    \n",
    "    def set_name(self, emp_name):\n",
    "        self.__name = emp_name\n",
    "    \n",
    "    def get_name(self):\n",
    "        return self.__name\n",
    "    \n",
    "    # __str__(self) \n",
    "    def __str__(self):\n",
    "        return(self.__name+ \" \" + (str)(self.__age))\n",
    "developer=Employee()\n",
    "developer.set_name(\"Raj\")\n",
    "developer.set_age(28)\n",
    "print(developer)"
   ]
  },
  {
   "cell_type": "code",
   "execution_count": null,
   "metadata": {},
   "outputs": [],
   "source": []
  }
 ],
 "metadata": {
  "kernelspec": {
   "display_name": "Python 3",
   "language": "python",
   "name": "python3"
  },
  "language_info": {
   "codemirror_mode": {
    "name": "ipython",
    "version": 3
   },
   "file_extension": ".py",
   "mimetype": "text/x-python",
   "name": "python",
   "nbconvert_exporter": "python",
   "pygments_lexer": "ipython3",
   "version": "3.7.4"
  }
 },
 "nbformat": 4,
 "nbformat_minor": 2
}
