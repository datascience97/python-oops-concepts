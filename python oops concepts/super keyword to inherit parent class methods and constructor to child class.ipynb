{
 "cells": [
  {
   "cell_type": "code",
   "execution_count": 1,
   "metadata": {},
   "outputs": [],
   "source": [
    "# Python allows you to create attributes dynamically as well. Whenever you try to assign a value to an attribute, \n",
    "# it checks if the attribute is already present. If present, the attribute is assigned, else the attribute is created!!\n",
    "class Employee:\n",
    "    def __init__(self):\n",
    "        self.name = None\n",
    "        self.age = None\n",
    "    \n",
    "    def set_employee_details(self, emp_name, emp_age):\n",
    "        self.age = emp_age\n",
    "        self.name = emp_name\n",
    "\n",
    "developer=Employee()\n",
    "developer.set_employee_details(\"Raj\", 28)\n",
    "# Creating attribute for developer object\n",
    "# Note:In Python, though it is possible to create individual attributes for objects of a class, it is not encouraged as per OOP principles.\n",
    "developer.title = \"Developer\"\n",
    "# The above code is not a good practice."
   ]
  },
  {
   "cell_type": "code",
   "execution_count": 2,
   "metadata": {},
   "outputs": [
    {
     "data": {
      "text/plain": [
       "<__main__.Employee at 0x231d40d2f88>"
      ]
     },
     "execution_count": 2,
     "metadata": {},
     "output_type": "execute_result"
    }
   ],
   "source": []
  },
  {
   "cell_type": "code",
   "execution_count": 3,
   "metadata": {},
   "outputs": [],
   "source": [
    "# In python inheritance, when an object of child class is created, \n",
    "# the parent class constructor is called only if the child class \n",
    "# does not have its own constructor.Else the parent class constructor is not called.\n",
    "\n",
    "# To invoke the parent class constructor and methods, we can use a magic method called super()\n",
    "\n",
    "class Shelter:\n",
    "    def __init__(self, shelter_for):\n",
    "        self.shelter_for = shelter_for\n",
    "\n",
    "class Tent(Shelter):\n",
    "    def __init__(self, shelter_for, no_of_chairs, no_of_cots):\n",
    "        super().__init__(shelter_for) # This is how we invoke super class constructor.\n",
    "        self.no_of_chairs = no_of_chairs\n",
    "        self.no_of_cots = no_of_cots\n",
    "\n",
    "class Cage(Shelter):\n",
    "    def __init__(self,shelter_for, lock_type):\n",
    "        super().__init__(shelter_for)\n",
    "        self.lock_type = lock_type\n",
    "        print('success')"
   ]
  },
  {
   "cell_type": "code",
   "execution_count": 18,
   "metadata": {},
   "outputs": [
    {
     "name": "stdout",
     "output_type": "stream",
     "text": [
      "2\n"
     ]
    }
   ],
   "source": [
    "a=Shelter(1)\n",
    "b=Cage(1,2)\n",
    "print(b.lock_type)"
   ]
  },
  {
   "cell_type": "code",
   "execution_count": null,
   "metadata": {},
   "outputs": [],
   "source": []
  }
 ],
 "metadata": {
  "kernelspec": {
   "display_name": "Python 3",
   "language": "python",
   "name": "python3"
  },
  "language_info": {
   "codemirror_mode": {
    "name": "ipython",
    "version": 3
   },
   "file_extension": ".py",
   "mimetype": "text/x-python",
   "name": "python",
   "nbconvert_exporter": "python",
   "pygments_lexer": "ipython3",
   "version": "3.7.4"
  }
 },
 "nbformat": 4,
 "nbformat_minor": 2
}
