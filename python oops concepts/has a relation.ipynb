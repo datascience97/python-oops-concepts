{
 "cells": [
  {
   "cell_type": "code",
   "execution_count": 1,
   "metadata": {},
   "outputs": [
    {
     "name": "stdout",
     "output_type": "stream",
     "text": [
      "Karnataka\n",
      "Andhra\n",
      "1234\n"
     ]
    }
   ],
   "source": [
    "# In Object Oriented Approach, it is possible to have relationships between classes. \n",
    "# When an object of a class becomes the instance variable of another class, it is known as \"has-a\" relationship or AGGREGATION.\n",
    "# If ClassA 'has-a' ClassB, then ClassB aggregates ClassA\n",
    "class Employee:\n",
    "    def __init__(self,name,emp_id,contact):\n",
    "        self.name=name\n",
    "        self.emp_id=emp_id\n",
    "        self.contact=contact # this is where the instance variable of Contact class is getting created.\n",
    "\n",
    "class Contact:\n",
    "    def __init__(self,address,mobile_no):\n",
    "        self.address=address\n",
    "        self.mobile_no=mobile_no\n",
    "\n",
    "cntct1 = Contact(\"Karnataka\", 1234)\n",
    "cntct2 = Contact(\"Andhra\", 1234)\n",
    "\n",
    "emp1=Employee(\"Ajith\",44,cntct1)\n",
    "emp2=Employee(\"Raj\",28,cntct2)\n",
    "\n",
    "print(emp1.contact.address)\n",
    "emp2_contact=emp2.contact\n",
    "print(emp2_contact.address)\n",
    "print(emp2.contact.mobile_no)"
   ]
  },
  {
   "cell_type": "code",
   "execution_count": null,
   "metadata": {},
   "outputs": [],
   "source": []
  }
 ],
 "metadata": {
  "kernelspec": {
   "display_name": "Python 3",
   "language": "python",
   "name": "python3"
  },
  "language_info": {
   "codemirror_mode": {
    "name": "ipython",
    "version": 3
   },
   "file_extension": ".py",
   "mimetype": "text/x-python",
   "name": "python",
   "nbconvert_exporter": "python",
   "pygments_lexer": "ipython3",
   "version": "3.7.4"
  }
 },
 "nbformat": 4,
 "nbformat_minor": 2
}
