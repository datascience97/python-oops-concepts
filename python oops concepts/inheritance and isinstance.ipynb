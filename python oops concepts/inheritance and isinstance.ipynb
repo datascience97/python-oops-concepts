{
 "cells": [
  {
   "cell_type": "code",
   "execution_count": 1,
   "metadata": {},
   "outputs": [
    {
     "name": "stdout",
     "output_type": "stream",
     "text": [
      "salary for developer :  100\n",
      "Salary for tester:  100\n"
     ]
    }
   ],
   "source": [
    "\n",
    "# Types of inheritance\n",
    "# 1. Single-level Inheritance\n",
    "# 2. Multi-level Inheritance\n",
    "# 3. Heirarchical Inheritance\n",
    "# 4. Multiple Inheritance\n",
    "\n",
    "class Employee:\n",
    "    def salary(self):\n",
    "        return 100;\n",
    "\n",
    "class Developer(Employee):\n",
    "    def developing(self):\n",
    "        print(\"salary for developer : \", self.salary())\n",
    "\n",
    "class Tester(Employee):\n",
    "    def testing(self):\n",
    "        print(\"Salary for tester: \", self.salary())\n",
    "\n",
    "developer=Developer()\n",
    "developer.developing()\n",
    "tester=Tester()\n",
    "tester.testing()"
   ]
  },
  {
   "cell_type": "markdown",
   "metadata": {},
   "source": [
    "# multiple inheritance"
   ]
  },
  {
   "cell_type": "code",
   "execution_count": 5,
   "metadata": {},
   "outputs": [
    {
     "name": "stdout",
     "output_type": "stream",
     "text": [
      "animal eating\n",
      "Pet being loyal\n",
      "animal sleeping\n"
     ]
    }
   ],
   "source": [
    "# Python allows a class to inherit multiple classes. This is also called as \"Multiple Inheritance\".\n",
    "# Here the Dog class inherits both Animal and Pet class.\n",
    "# When both the parent classes have same variables or methods, the class is determined from left to right.\n",
    "# For example, in Dog(Animal, Pet): the methods are considered from left to right. \n",
    "# That means if a method is not there in Animal class, only then it checks in the Pet class. \n",
    "# Hence tommy.eat() would invoke Animal class eat method\n",
    "\n",
    "class Animal:\n",
    "    def eat(self):\n",
    "        print(\"animal eating\")\n",
    "    def sleep(self):\n",
    "        print(\"animal sleeping\")\n",
    "class Pet:\n",
    "    def be_loyal(self):\n",
    "        print(\"Pet being loyal\")\n",
    "    def eat(self):\n",
    "        print(\"pet eating\")        \n",
    "        \n",
    "class Dog(Animal,Pet):\n",
    "    pass\n",
    "\n",
    "tommy=Dog()\n",
    "tommy.eat() # This will call Animal class eat method, since Animal is the left most one.\n",
    "tommy.be_loyal()\n",
    "tommy.sleep()"
   ]
  },
  {
   "cell_type": "markdown",
   "metadata": {},
   "source": [
    "# isinstance"
   ]
  },
  {
   "cell_type": "code",
   "execution_count": 4,
   "metadata": {},
   "outputs": [
    {
     "name": "stdout",
     "output_type": "stream",
     "text": [
      "True\n",
      "Employee role Developer  id  123\n",
      "Contact name Ajith  mobile  789\n",
      "Contact name Raj  mobile  908\n",
      "Employee role Tester  id  456\n"
     ]
    }
   ],
   "source": [
    "# isinstance(obj, classinfo) is a built-in function in Python which returns true if argument obj is an object of argument classinfo. Else, it returns false.\n",
    "class Employee:\n",
    "    def __init__(self, role, id):\n",
    "        self.role = role\n",
    "        self.id = id\n",
    "\n",
    "class Contact:\n",
    "    def __init__(self, name, mobile):\n",
    "        self.name = name\n",
    "        self.mobile = mobile\n",
    "\n",
    "e1=Employee(\"Developer\", 123)\n",
    "e2=Employee(\"Tester\",456)\n",
    "c1=Contact(\"Ajith\",789)\n",
    "c2=Contact(\"Raj\",908)\n",
    "print(isinstance(e1, Employee))\n",
    "list_to_process = [e1, c1, c2, e2]\n",
    "for obj in list_to_process:\n",
    "    if isinstance(obj, Employee): print(\"Employee role\", obj.role, \" id \", obj.id) # Checking whether the instance 'obj' is of type class Employee or not\n",
    "    if isinstance(obj, Contact): print(\"Contact name\", obj.name, \" mobile \", obj.mobile) # Same as above, but checking for Contact"
   ]
  },
  {
   "cell_type": "code",
   "execution_count": null,
   "metadata": {},
   "outputs": [],
   "source": []
  }
 ],
 "metadata": {
  "kernelspec": {
   "display_name": "Python 3",
   "language": "python",
   "name": "python3"
  },
  "language_info": {
   "codemirror_mode": {
    "name": "ipython",
    "version": 3
   },
   "file_extension": ".py",
   "mimetype": "text/x-python",
   "name": "python",
   "nbconvert_exporter": "python",
   "pygments_lexer": "ipython3",
   "version": "3.7.4"
  }
 },
 "nbformat": 4,
 "nbformat_minor": 2
}
